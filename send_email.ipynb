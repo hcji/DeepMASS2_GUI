{
 "cells": [
  {
   "cell_type": "code",
   "execution_count": 5,
   "metadata": {},
   "outputs": [],
   "source": [
    "\n",
    "import smtplib\n",
    "\n",
    "from email.header import Header\n",
    "\n",
    "from email.mime.text import MIMEText\n",
    "import random"
   ]
  },
  {
   "cell_type": "code",
   "execution_count": 6,
   "metadata": {},
   "outputs": [],
   "source": [
    "code = random.sample(list(range(10, 101)), 6)\n",
    "code = list(map(lambda x: str(x), code))\n",
    "code = ' '.join(code)"
   ]
  },
  {
   "cell_type": "code",
   "execution_count": 12,
   "metadata": {},
   "outputs": [
    {
     "name": "stdout",
     "output_type": "stream",
     "text": [
      "邮件发送成功\n",
      "恭喜您输入的正确\n"
     ]
    }
   ],
   "source": [
    "def sendMail(user, pwd, sender, receiver, content, title):\n",
    "    mail_host = \"smtp.qq.com\" \n",
    "    message = MIMEText(content, \"plain\", \"utf-8\")\n",
    "    message[\"From\"] = sender\n",
    "    # message[\"To\"] = receiver\n",
    "    message[\"To\"] = \",\".join(receiver)\n",
    "    message[\"Subject\"] = title\n",
    "    try:\n",
    "        smtpObj = smtplib.SMTP()\n",
    "        smtpObj.connect(mail_host, 25)  # 25 为 SMTP 端口号\n",
    "        smtpObj.login(mail_user, mail_pwd)\n",
    "        smtpObj.sendmail(mail_user, receiver, message.as_string())\n",
    "        print(\"邮件发送成功\")\n",
    "    except:\n",
    "        print('邮件发送失败')\n",
    "\n",
    "    code_1 = input('请输入您收到的验证码：')\n",
    "    if code == code_1:\n",
    "        print('恭喜您输入的正确')\n",
    "\n",
    "if __name__ == \"__main__\":\n",
    "    mail_user = \"3571267146@qq.com\"\n",
    "    mail_pwd = \"gpzhdwzjwgmrchgd\"\n",
    "    mail_sender = \"3571267146@qq.com\"\n",
    "    shoujian = input('请输入收件人：')\n",
    "    csr = input('请输入抄送人：')\n",
    "    receivers = csr.split(' ')\n",
    "    mail_receiver = receivers + [shoujian]\n",
    "\n",
    "    email_content = \"感谢您使用deepmass ，您的验证码为：%s\" % code\n",
    "    email_title = \"DEEPMASS\"\n",
    "\n",
    "    sendMail(mail_user, mail_pwd, mail_sender,\n",
    "             mail_receiver, email_content, email_title)\n",
    "\n",
    "\n"
   ]
  },
  {
   "cell_type": "code",
   "execution_count": null,
   "metadata": {},
   "outputs": [],
   "source": []
  },
  {
   "cell_type": "code",
   "execution_count": null,
   "metadata": {},
   "outputs": [],
   "source": []
  },
  {
   "cell_type": "code",
   "execution_count": null,
   "metadata": {},
   "outputs": [],
   "source": []
  },
  {
   "cell_type": "code",
   "execution_count": null,
   "metadata": {},
   "outputs": [],
   "source": []
  }
 ],
 "metadata": {
  "kernelspec": {
   "display_name": "deepmass",
   "language": "python",
   "name": "python3"
  },
  "language_info": {
   "codemirror_mode": {
    "name": "ipython",
    "version": 3
   },
   "file_extension": ".py",
   "mimetype": "text/x-python",
   "name": "python",
   "nbconvert_exporter": "python",
   "pygments_lexer": "ipython3",
   "version": "3.8.13"
  }
 },
 "nbformat": 4,
 "nbformat_minor": 2
}
