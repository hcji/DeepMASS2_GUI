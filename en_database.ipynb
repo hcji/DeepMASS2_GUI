{
 "cells": [
  {
   "cell_type": "code",
   "execution_count": 1,
   "metadata": {},
   "outputs": [],
   "source": [
    "from sqlalchemy import create_engine\n",
    "\n",
    "engine = create_engine('sqlite:///./User_Information.db', echo=True)"
   ]
  },
  {
   "cell_type": "code",
   "execution_count": 2,
   "metadata": {},
   "outputs": [],
   "source": [
    "from sqlalchemy.orm import declarative_base\n",
    "\n",
    "Base = declarative_base()"
   ]
  },
  {
   "cell_type": "code",
   "execution_count": 3,
   "metadata": {},
   "outputs": [],
   "source": [
    "from sqlalchemy import Column, Integer, String\n",
    "\n",
    "\n",
    "class User(Base):\n",
    "    __tablename__ = 'deepmass_user'\n",
    "    id = Column(Integer, primary_key=True, unique=True)\n",
    "    name = Column(String)\n",
    "    contact_info = Column(String, unique=True)\n",
    "    passwd = Column(String)\n",
    "\n",
    "    def _repr_(self):\n",
    "        return \"<User(name='%s', contact_info='%s', passwd='%s')>\" % (\n",
    "            self.name, self.contact_info, self.passwd\n",
    "        )"
   ]
  },
  {
   "cell_type": "code",
   "execution_count": 4,
   "metadata": {},
   "outputs": [
    {
     "data": {
      "text/plain": [
       "Table('users', MetaData(), Column('id', Integer(), table=<users>, primary_key=True, nullable=False), Column('name', String(), table=<users>), Column('contact_info', String(), table=<users>), Column('passwd', String(), table=<users>), schema=None)"
      ]
     },
     "execution_count": 4,
     "metadata": {},
     "output_type": "execute_result"
    }
   ],
   "source": [
    "User.__table__"
   ]
  },
  {
   "cell_type": "code",
   "execution_count": 5,
   "metadata": {},
   "outputs": [
    {
     "name": "stdout",
     "output_type": "stream",
     "text": [
      "2023-12-26 09:42:55,491 INFO sqlalchemy.engine.Engine BEGIN (implicit)\n",
      "2023-12-26 09:42:55,492 INFO sqlalchemy.engine.Engine PRAGMA main.table_info(\"users\")\n",
      "2023-12-26 09:42:55,493 INFO sqlalchemy.engine.Engine [raw sql] ()\n",
      "2023-12-26 09:42:55,494 INFO sqlalchemy.engine.Engine PRAGMA temp.table_info(\"users\")\n",
      "2023-12-26 09:42:55,495 INFO sqlalchemy.engine.Engine [raw sql] ()\n",
      "2023-12-26 09:42:55,498 INFO sqlalchemy.engine.Engine \n",
      "CREATE TABLE users (\n",
      "\tid INTEGER NOT NULL, \n",
      "\tname VARCHAR, \n",
      "\tcontact_info VARCHAR, \n",
      "\tpasswd VARCHAR, \n",
      "\tPRIMARY KEY (id), \n",
      "\tUNIQUE (id), \n",
      "\tUNIQUE (contact_info)\n",
      ")\n",
      "\n",
      "\n",
      "2023-12-26 09:42:55,499 INFO sqlalchemy.engine.Engine [no key 0.00071s] ()\n",
      "2023-12-26 09:42:55,505 INFO sqlalchemy.engine.Engine COMMIT\n"
     ]
    }
   ],
   "source": [
    "Base.metadata.create_all(engine)"
   ]
  },
  {
   "cell_type": "code",
   "execution_count": 6,
   "metadata": {},
   "outputs": [],
   "source": [
    "from sqlalchemy.orm import sessionmaker\n",
    "\n",
    "Session = sessionmaker(bind=engine)\n",
    "session = Session()"
   ]
  },
  {
   "cell_type": "code",
   "execution_count": 7,
   "metadata": {},
   "outputs": [
    {
     "data": {
      "text/plain": [
       "'Lysa'"
      ]
     },
     "execution_count": 7,
     "metadata": {},
     "output_type": "execute_result"
    }
   ],
   "source": [
    "ed_user = User(name='Lysa', contact_info='Lysa_Jones@outlook.com', passwd='Lysa_Jones0000')\n",
    "session.add(ed_user)\n",
    "ed_user.name"
   ]
  },
  {
   "cell_type": "code",
   "execution_count": 8,
   "metadata": {},
   "outputs": [
    {
     "name": "stdout",
     "output_type": "stream",
     "text": [
      "2023-12-26 09:43:10,563 INFO sqlalchemy.engine.Engine BEGIN (implicit)\n",
      "2023-12-26 09:43:10,566 INFO sqlalchemy.engine.Engine INSERT INTO users (name, contact_info, passwd) VALUES (?, ?, ?) RETURNING id\n",
      "2023-12-26 09:43:10,567 INFO sqlalchemy.engine.Engine [generated in 0.00013s (insertmanyvalues) 1/2 (ordered; batch not supported)] ('Lysa', 'Lysa_Jones@outlook.com', 'Lysa_Jones0000')\n",
      "2023-12-26 09:43:10,569 INFO sqlalchemy.engine.Engine INSERT INTO users (name, contact_info, passwd) VALUES (?, ?, ?) RETURNING id\n",
      "2023-12-26 09:43:10,570 INFO sqlalchemy.engine.Engine [insertmanyvalues 2/2 (ordered; batch not supported)] ('Nana', 'Lnanalo@outlook.com', 'nana0000111')\n",
      "2023-12-26 09:43:10,571 INFO sqlalchemy.engine.Engine COMMIT\n"
     ]
    }
   ],
   "source": [
    "ed_user = User(name='Nana', contact_info='Lnanalo@outlook.com', passwd='nana0000111')\n",
    "session.add(ed_user)\n",
    "session.commit()"
   ]
  },
  {
   "cell_type": "code",
   "execution_count": 26,
   "metadata": {},
   "outputs": [
    {
     "name": "stdout",
     "output_type": "stream",
     "text": [
      "2023-12-25 17:08:54,179 INFO sqlalchemy.engine.Engine SELECT users.id AS users_id, users.name AS users_name, users.contact_info AS users_contact_info, users.passwd AS users_passwd \n",
      "FROM users \n",
      "WHERE users.name = ?\n",
      " LIMIT ? OFFSET ?\n",
      "2023-12-25 17:08:54,181 INFO sqlalchemy.engine.Engine [generated in 0.00140s] ('ed', 1, 0)\n"
     ]
    }
   ],
   "source": [
    "our_user = session.query(User).filter_by(name='ed').first()\n",
    "our_user\n"
   ]
  },
  {
   "cell_type": "code",
   "execution_count": 37,
   "metadata": {},
   "outputs": [
    {
     "name": "stdout",
     "output_type": "stream",
     "text": [
      "2023-12-25 17:10:18,684 INFO sqlalchemy.engine.Engine ROLLBACK\n"
     ]
    }
   ],
   "source": [
    "session.rollback()"
   ]
  },
  {
   "cell_type": "code",
   "execution_count": 40,
   "metadata": {},
   "outputs": [
    {
     "data": {
      "text/plain": [
       "'Lnanalo@outlook.com'"
      ]
     },
     "execution_count": 40,
     "metadata": {},
     "output_type": "execute_result"
    }
   ],
   "source": [
    "ed_user.contact_info"
   ]
  },
  {
   "cell_type": "code",
   "execution_count": 55,
   "metadata": {},
   "outputs": [
    {
     "name": "stdout",
     "output_type": "stream",
     "text": [
      "2023-12-25 17:22:02,493 INFO sqlalchemy.engine.Engine BEGIN (implicit)\n",
      "2023-12-25 17:22:02,494 INFO sqlalchemy.engine.Engine SELECT users.id AS users_id, users.name AS users_name, users.contact_info AS users_contact_info, users.passwd AS users_passwd \n",
      "FROM users ORDER BY users.id\n",
      "2023-12-25 17:22:02,495 INFO sqlalchemy.engine.Engine [generated in 0.00108s] ()\n",
      "Lysa Lysa_Jones@outlook.com Lysa_Jones0000\n",
      "Nana Lnanalo@outlook.com nana0000111\n"
     ]
    }
   ],
   "source": [
    "for instance in session.query(User).order_by(User.id):\n",
    "    print(instance.name, instance.contact_info, instance.passwd)\n",
    "\n"
   ]
  },
  {
   "cell_type": "code",
   "execution_count": 71,
   "metadata": {},
   "outputs": [
    {
     "name": "stdout",
     "output_type": "stream",
     "text": [
      "2023-12-27 09:41:35,023 INFO sqlalchemy.engine.Engine BEGIN (implicit)\n",
      "2023-12-27 09:41:35,029 INFO sqlalchemy.engine.Engine SELECT users.id, users.name, users.contact_info, users.passwd \n",
      "FROM users \n",
      "WHERE users.name IN (?) AND users.passwd IN (?)\n",
      "2023-12-27 09:41:35,031 INFO sqlalchemy.engine.Engine [cached since 8.596e+04s ago] ('Nana', 'nana0000111')\n"
     ]
    },
    {
     "data": {
      "text/plain": [
       "True"
      ]
     },
     "execution_count": 71,
     "metadata": {},
     "output_type": "execute_result"
    }
   ],
   "source": [
    "\n",
    "\n",
    "\n",
    "def login(name, passwd):\n",
    "    results = session.execute(select(User).where(User.name.in_([name])).where(User.passwd.in_([passwd])))\n",
    "    res = results.scalars().all()\n",
    "\n",
    "    if len(res) > 0:\n",
    "        return True\n",
    "    else:\n",
    "        return False\n",
    "\n",
    "\n",
    "login(\"Nana\", 'nana0000111')"
   ]
  },
  {
   "cell_type": "code",
   "execution_count": 72,
   "metadata": {},
   "outputs": [],
   "source": [
    "\n",
    "from sqlalchemy import select"
   ]
  },
  {
   "cell_type": "code",
   "execution_count": 73,
   "metadata": {},
   "outputs": [
    {
     "name": "stdout",
     "output_type": "stream",
     "text": [
      "2023-12-27 09:41:40,749 INFO sqlalchemy.engine.Engine ROLLBACK\n"
     ]
    }
   ],
   "source": [
    "session.rollback()"
   ]
  },
  {
   "cell_type": "code",
   "execution_count": 49,
   "metadata": {},
   "outputs": [],
   "source": []
  },
  {
   "cell_type": "code",
   "execution_count": 78,
   "metadata": {},
   "outputs": [
    {
     "name": "stdout",
     "output_type": "stream",
     "text": [
      "2023-12-28 09:47:38,218 INFO sqlalchemy.engine.Engine BEGIN (implicit)\n",
      "2023-12-28 09:47:38,219 INFO sqlalchemy.engine.Engine SELECT users.id AS users_id, users.name AS users_name, users.contact_info AS users_contact_info, users.passwd AS users_passwd \n",
      "FROM users \n",
      "WHERE users.contact_info = ?\n",
      " LIMIT ? OFFSET ?\n",
      "2023-12-28 09:47:38,220 INFO sqlalchemy.engine.Engine [cached since 1.555e+05s ago] ('Dolya@qq.com', 1, 0)\n",
      "该用户已存在，可直接登录或重新输入用户名进行注册\n"
     ]
    }
   ],
   "source": [
    "\n",
    "\n",
    "def register(name, email, passwd):\n",
    "    existing_user = session.query(User).filter_by(contact_info=email).first()\n",
    "\n",
    "    if existing_user:\n",
    "        print('该用户已存在，可直接登录或重新输入用户名进行注册')\n",
    "    else:\n",
    "        new_user = User(name=name, contact_info=email, passwd=passwd)\n",
    "        session.add(new_user)\n",
    "        session.commit()\n",
    "        print('注册成功')\n",
    "\n",
    "\n",
    "register('Dolya', 'Dolya@qq.com', '1234560')\n"
   ]
  },
  {
   "cell_type": "code",
   "execution_count": 50,
   "metadata": {},
   "outputs": [
    {
     "data": {
      "text/plain": [
       "'202cb962ac59075b964b07152d234b70'"
      ]
     },
     "execution_count": 50,
     "metadata": {},
     "output_type": "execute_result"
    }
   ],
   "source": [
    "import hashlib\n",
    "\n",
    "m = hashlib.md5()\n",
    "m.update(b'123')\n",
    "m.hexdigest()"
   ]
  },
  {
   "cell_type": "code",
   "execution_count": 51,
   "metadata": {},
   "outputs": [
    {
     "data": {
      "text/plain": [
       "'202cb962ac59075b964b07152d234b70'"
      ]
     },
     "execution_count": 51,
     "metadata": {},
     "output_type": "execute_result"
    }
   ],
   "source": [
    "hashlib.new('md5', b'123').hexdigest()"
   ]
  },
  {
   "cell_type": "code",
   "execution_count": 83,
   "metadata": {},
   "outputs": [
    {
     "name": "stdout",
     "output_type": "stream",
     "text": [
      "f5c666d8258941c6f59098a07a0b129c\n"
     ]
    }
   ],
   "source": [
    "def encrypt(passwd):\n",
    "    if not passwd.encode('utf-8').isascii():\n",
    "        return \"输入错误,密码长度至少8个字符,包含数字,大小写字母和特殊字符其中两种\"\n",
    "    new_passwd = hashlib.new('md5', passwd.encode('utf-8')).hexdigest()\n",
    "    return new_passwd\n",
    "\n",
    "\n",
    "sd = encrypt('krL123')\n",
    "print(sd)"
   ]
  },
  {
   "cell_type": "code",
   "execution_count": 69,
   "metadata": {},
   "outputs": [
    {
     "data": {
      "text/plain": [
       "'5abdec36a3c711ee87fd00d861a39b83'"
      ]
     },
     "execution_count": 69,
     "metadata": {},
     "output_type": "execute_result"
    }
   ],
   "source": [
    "import uuid\n",
    "\n",
    "uuid.uuid1().hex"
   ]
  },
  {
   "cell_type": "code",
   "execution_count": 3,
   "metadata": {
    "ExecuteTime": {
     "end_time": "2024-01-17T09:25:53.491222500Z",
     "start_time": "2024-01-17T09:25:52.630271200Z"
    }
   },
   "outputs": [],
   "source": [
    "from matchms.importing import load_from_mgf\n",
    "\n",
    "sp_list = list(load_from_mgf('./data/CYY_P_MS2.mgf'))"
   ]
  },
  {
   "cell_type": "code",
   "execution_count": 4,
   "outputs": [
    {
     "data": {
      "text/plain": "<matchms.Spectrum.Spectrum at 0x2446aada520>"
     },
     "execution_count": 4,
     "metadata": {},
     "output_type": "execute_result"
    }
   ],
   "source": [
    "sp_list[0]"
   ],
   "metadata": {
    "collapsed": false,
    "ExecuteTime": {
     "end_time": "2024-01-17T09:26:00.322036500Z",
     "start_time": "2024-01-17T09:26:00.249680400Z"
    }
   }
  },
  {
   "cell_type": "code",
   "execution_count": 7,
   "outputs": [
    {
     "data": {
      "text/plain": "{'feature_id': '74',\n 'pepmass': (100.07616, None),\n 'scans': '74',\n 'charge': 1,\n 'mslevel': '2',\n 'retention_time': 174.3,\n 'precursor_mz': 100.07616}"
     },
     "execution_count": 7,
     "metadata": {},
     "output_type": "execute_result"
    }
   ],
   "source": [
    "sp_list[0].metadata"
   ],
   "metadata": {
    "collapsed": false,
    "ExecuteTime": {
     "end_time": "2024-01-17T09:26:24.866858800Z",
     "start_time": "2024-01-17T09:26:24.549383800Z"
    }
   }
  },
  {
   "cell_type": "code",
   "execution_count": 9,
   "outputs": [
    {
     "data": {
      "text/plain": "{'_metadata': <matchms.Metadata.Metadata at 0x2446aadf7c0>,\n '_peaks': <matchms.Fragments.Fragments at 0x2446aadfbb0>,\n '_losses': None}"
     },
     "execution_count": 9,
     "metadata": {},
     "output_type": "execute_result"
    }
   ],
   "source": [
    "sp_list[0].__dict__"
   ],
   "metadata": {
    "collapsed": false,
    "ExecuteTime": {
     "end_time": "2024-01-17T09:26:42.620046700Z",
     "start_time": "2024-01-17T09:26:42.054006100Z"
    }
   }
  },
  {
   "cell_type": "code",
   "execution_count": 12,
   "outputs": [
    {
     "data": {
      "text/plain": "{'charge': -1,\n 'precursor_mz': 194.04588176800002,\n 'compound_name': 'challenge_255',\n 'challenge': 'CASMI2016_Challenge-006',\n 'formula': 'C9H9NO4',\n 'smiles': 'CC(=O)NC1=CC=C(O)C(=C1)C(O)=O',\n 'inchikey': 'GEFDRROBUCULOD-UHFFFAOYSA-N',\n 'adduct': '[M-H]-',\n 'ionmode': 'negative',\n 'parent_mass': '195.053157768'}"
     },
     "execution_count": 12,
     "metadata": {},
     "output_type": "execute_result"
    }
   ],
   "source": [
    "list(load_from_mgf('./example/minimum_example.mgf'))[0].metadata"
   ],
   "metadata": {
    "collapsed": false,
    "ExecuteTime": {
     "end_time": "2024-01-17T09:30:09.453810500Z",
     "start_time": "2024-01-17T09:30:08.748866900Z"
    }
   }
  },
  {
   "cell_type": "code",
   "execution_count": null,
   "outputs": [],
   "source": [],
   "metadata": {
    "collapsed": false
   }
  }
 ],
 "metadata": {
  "kernelspec": {
   "display_name": "deepmass",
   "language": "python",
   "name": "python3"
  },
  "language_info": {
   "codemirror_mode": {
    "name": "ipython",
    "version": 3
   },
   "file_extension": ".py",
   "mimetype": "text/x-python",
   "name": "python",
   "nbconvert_exporter": "python",
   "pygments_lexer": "ipython3",
   "version": "3.8.13"
  }
 },
 "nbformat": 4,
 "nbformat_minor": 2
}
