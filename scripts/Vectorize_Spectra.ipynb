{
 "cells": [
  {
   "cell_type": "markdown",
   "id": "53acb8a2-e703-404b-b2f3-229cf538c422",
   "metadata": {},
   "source": [
    "## Import packages"
   ]
  },
  {
   "cell_type": "code",
   "execution_count": null,
   "id": "de457429-73bb-455c-b9ef-1c5130dc4a05",
   "metadata": {},
   "outputs": [],
   "source": [
    "import os\n",
    "import numpy as np\n",
    "import pickle\n",
    "import hnswlib\n",
    "import gensim\n",
    "from tqdm import tqdm\n",
    "\n",
    "from spec2vec import SpectrumDocument\n",
    "from spec2vec.vector_operations import calc_vector"
   ]
  },
  {
   "cell_type": "markdown",
   "id": "7249a119-8961-4bba-bcd6-27118554e80f",
   "metadata": {},
   "source": [
    "## Positive data"
   ]
  },
  {
   "cell_type": "code",
   "execution_count": null,
   "id": "5d19ba38-b38e-4e0e-b3b4-10bd69cebdfc",
   "metadata": {},
   "outputs": [],
   "source": [
    "# load model and define function\n",
    "file = 'Models/Ms2Vec_allGNPSpositive.hdf5' # path to model\n",
    "model = gensim.models.Word2Vec.load(file)\n",
    "calc_ms2vec_vector = lambda x: calc_vector(model, SpectrumDocument(x, n_decimals=2), allowed_missing_percentage=100)"
   ]
  },
  {
   "cell_type": "code",
   "execution_count": null,
   "id": "85221143-624e-4d8b-a0a1-78e8e89cac93",
   "metadata": {},
   "outputs": [],
   "source": [
    "# load spectra, replace with your own path of processed spectra\n",
    "with open('Saves/paper_version/references_spectrums_positive.pickle', 'rb') as file:\n",
    "    reference = pickle.load(file)"
   ]
  },
  {
   "cell_type": "code",
   "execution_count": null,
   "id": "0e8e9702-945c-4796-a245-bdbe02deff04",
   "metadata": {},
   "outputs": [],
   "source": []
  }
 ],
 "metadata": {
  "kernelspec": {
   "display_name": "Python 3 (ipykernel)",
   "language": "python",
   "name": "python3"
  },
  "language_info": {
   "codemirror_mode": {
    "name": "ipython",
    "version": 3
   },
   "file_extension": ".py",
   "mimetype": "text/x-python",
   "name": "python",
   "nbconvert_exporter": "python",
   "pygments_lexer": "ipython3",
   "version": "3.8.18"
  }
 },
 "nbformat": 4,
 "nbformat_minor": 5
}
