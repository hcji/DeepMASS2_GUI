{
 "cells": [
  {
   "cell_type": "markdown",
   "id": "3c8ef5f5-ad4e-4e05-a088-bf7a02465149",
   "metadata": {},
   "source": [
    "## Import packages"
   ]
  },
  {
   "cell_type": "code",
   "execution_count": 1,
   "id": "0f1a067b-11c9-4d3d-bdb5-e8161011667b",
   "metadata": {},
   "outputs": [],
   "source": [
    "import os\n",
    "import pickle\n",
    "import numpy as np\n",
    "from tqdm import tqdm\n",
    "from rdkit import Chem\n",
    "from rdkit.Chem import rdmolfiles, inchi, AllChem\n",
    "from matchms import Spectrum\n",
    "from matchms.importing import load_from_msp"
   ]
  },
  {
   "cell_type": "markdown",
   "id": "088c9d0b-d69a-40e7-8a98-a926a4056bd4",
   "metadata": {},
   "source": [
    "## Specify the file path"
   ]
  },
  {
   "cell_type": "code",
   "execution_count": null,
   "id": "56e8f9f5-c75d-414e-8118-c4c0a4f78813",
   "metadata": {},
   "outputs": [],
   "source": [
    "path_data = os.path.join('D:/DeepMASS2_Data_Processing/Datasets/NIST2020')\n",
    "file_mol = os.path.join(path_data, 'hr_msms_nist.MOL')\n",
    "file_spec = os.path.join(path_data, 'hr_msms_nist.MSP')"
   ]
  },
  {
   "cell_type": "markdown",
   "id": "e7cf32cc-e402-4581-ae91-ab316e7fda96",
   "metadata": {},
   "source": [
    "## Load and correlate the ms/ms and the chemical structures"
   ]
  },
  {
   "cell_type": "code",
   "execution_count": null,
   "id": "f44dc315-2783-4f8b-8e68-a3fbd572289f",
   "metadata": {},
   "outputs": [],
   "source": [
    "spectrums = [s for s in tqdm(load_from_msp(file_spec))]\n",
    "np.save(os.path.join(path_data, 'preprocessed_spectrums.npy'), spectrums)"
   ]
  },
  {
   "cell_type": "code",
   "execution_count": null,
   "id": "f538add5-73fe-4701-b8d9-9e461222f2bb",
   "metadata": {},
   "outputs": [],
   "source": [
    "def add_mol_info(s):\n",
    "    if s.get('smiles'):\n",
    "        return s\n",
    "    i = s.get('id')\n",
    "    f = file_mol + '/ID{}.mol'.format(i)\n",
    "    try:\n",
    "        m = rdmolfiles.MolFromMolFile(f)\n",
    "    except:\n",
    "        return None\n",
    "    if m is None:\n",
    "        return None\n",
    "    smi = Chem.MolToSmiles(m)\n",
    "    inchikey = inchi.MolToInchiKey(m)\n",
    "    s = s.set('smiles', smi)\n",
    "    s = s.set('inchikey', inchikey)\n",
    "    return s\n",
    "\n",
    "\n",
    "spectrums = [add_mol_info(s) for s in tqdm(spectrums) if s is not None]\n",
    "np.save(os.path.join(path_data, 'preprocessed_spectrums.npy'), spectrums)"
   ]
  },
  {
   "cell_type": "markdown",
   "id": "42fde9aa-4336-4efa-a4a3-87f40bf6b5ae",
   "metadata": {},
   "source": [
    "## Filter ms/ms with adduct types"
   ]
  },
  {
   "cell_type": "code",
   "execution_count": null,
   "id": "a7b1ee52-aa63-4553-955b-846eeb6fe585",
   "metadata": {},
   "outputs": [],
   "source": [
    "from matchms.filtering import default_filters\n",
    "from matchms.filtering import add_parent_mass\n",
    "from matchms.filtering.filter_utils.load_known_adducts import load_known_adducts\n",
    "\n",
    "adducts_dict = load_known_adducts()\n",
    "adducts_keys = ['[M+H]+', '[M-H]-', '[M+Na]+', '[M+K]+', '[M-H2O+H]+', '[M+H-NH3]+','[M+Cl]-', '[M+NH4]+', '[M+CH3COO]-', '[M-H2O-H]-']\n",
    "def add_adduct(s, mass_tolerance = 0.01):\n",
    "    parent_mass = float(s.get(\"nominal_mass\"))\n",
    "    precursor_mz = s.get(\"precursor_mz\", None)\n",
    "    for k in adducts_keys:\n",
    "        k = np.where(adducts_dict['adduct'] == k)[0][0]\n",
    "        ionmode_ = adducts_dict.loc[k,'ionmode']\n",
    "        charge_ = adducts_dict.loc[k,'charge']\n",
    "        correction_mass = adducts_dict.loc[k,'correction_mass']\n",
    "        if abs(precursor_mz - parent_mass - correction_mass) <= mass_tolerance:\n",
    "            s = s.set('charge', charge_)\n",
    "            s = s.set('ionmode', ionmode_)\n",
    "            s = s.set('adduct', k)  \n",
    "    return s\n",
    "\n",
    "\n",
    "def apply_filters(s):\n",
    "    s = add_adduct(s)\n",
    "    s = default_filters(s)\n",
    "    s = add_parent_mass(s, estimate_from_adduct=True)\n",
    "    return s\n",
    "\n",
    "spectrums = [apply_filters(s) for s in tqdm(spectrums) if s is not None]\n",
    "np.save(os.path.join(path_data, 'preprocessed_spectrums.npy'), spectrums)"
   ]
  },
  {
   "cell_type": "markdown",
   "id": "25610b09-c49c-4a19-a07b-b3b91a4072f0",
   "metadata": {},
   "source": [
    "## Add meta information (inchikey, smiles, etc)"
   ]
  },
  {
   "cell_type": "code",
   "execution_count": null,
   "id": "5cc154f4-06f4-40cf-a939-d78634e2b16f",
   "metadata": {},
   "outputs": [],
   "source": [
    "from matchms.filtering import harmonize_undefined_inchikey, harmonize_undefined_inchi, harmonize_undefined_smiles\n",
    "from matchms.filtering import repair_inchi_inchikey_smiles\n",
    "\n",
    "def clean_metadata(s):\n",
    "    s = harmonize_undefined_inchikey(s)\n",
    "    s = harmonize_undefined_inchi(s)\n",
    "    s = harmonize_undefined_smiles(s)\n",
    "    s = repair_inchi_inchikey_smiles(s)\n",
    "    return s\n",
    "\n",
    "from matchms.filtering import derive_inchi_from_smiles, derive_smiles_from_inchi\n",
    "from matchms.filtering import derive_inchikey_from_inchi\n",
    "\n",
    "def clean_metadata2(s):\n",
    "    s = derive_inchi_from_smiles(s)\n",
    "    s = derive_smiles_from_inchi(s)\n",
    "    s = derive_inchikey_from_inchi(s)\n",
    "    return s\n",
    "\n",
    "spectrums = [clean_metadata2(s) for s in tqdm(spectrums) if s is not None]\n",
    "np.save(os.path.join(path_data, 'preprocessed_spectrums.npy'), spectrums)"
   ]
  },
  {
   "cell_type": "markdown",
   "id": "4d47397b-fd4d-4cf4-868d-6446090db2d0",
   "metadata": {},
   "source": [
    "## Post processing"
   ]
  },
  {
   "cell_type": "code",
   "execution_count": null,
   "id": "10a69fd5-67a4-4e51-8f4e-734ec619d193",
   "metadata": {},
   "outputs": [],
   "source": [
    "def post_process(s):\n",
    "    s = normalize_intensities(s)\n",
    "    s = select_by_mz(s, mz_from=10.0, mz_to=1000)\n",
    "    s = require_minimum_number_of_peaks(s, n_required=5)\n",
    "    return s\n",
    "\n",
    "spectrums = [post_process(s) for s in tqdm(spectrums)]\n",
    "spectrums = [s for s in spectrums if s is not None]\n",
    "np.save(os.path.join(path_data, 'preprocessed_spectrums.npy'), spectrums)"
   ]
  },
  {
   "cell_type": "code",
   "execution_count": null,
   "id": "ddc609bb-c508-4b3a-a03b-fbc17f27758b",
   "metadata": {},
   "outputs": [],
   "source": [
    "spectrums_positive = []\n",
    "spectrums_negative = []\n",
    "for i, s in enumerate(tqdm(spectrums)):\n",
    "    try:\n",
    "        new_s = Spectrum(mz = s.mz, intensities = s.intensities,\n",
    "                         metadata = {'compound_name': s.get('compound_name'),\n",
    "                                     'precursor_mz': s.get('precursor_mz'),\n",
    "                                     'adduct': s.get('adduct'),\n",
    "                                     'parent_mass': s.get('nominal_mass'),\n",
    "                                     'smiles': s.get('smiles'),\n",
    "                                     'ionmode': s.get('ionmode'),\n",
    "                                     'inchikey': s.get('inchikey'),\n",
    "                                     'database': 'NIST20'})\n",
    "    except:\n",
    "        continue\n",
    "    if new_s.get(\"ionmode\") == \"positive\":\n",
    "        spectrums_positive.append(new_s)\n",
    "    elif new_s.get(\"ionmode\") == \"negative\":\n",
    "        spectrums_negative.append(new_s)\n",
    "    else:\n",
    "        pass\n",
    "\n",
    "pickle.dump(spectrums_negative, \n",
    "            open(os.path.join(path_data, 'ALL_NIST20_negative_cleaned.pickle'), \"wb\"))\n",
    "\n",
    "pickle.dump(spectrums_positive, \n",
    "            open(os.path.join(path_data, 'ALL_NIST20_positive_cleaned.pickle'), \"wb\"))"
   ]
  }
 ],
 "metadata": {
  "kernelspec": {
   "display_name": "Python 3 (ipykernel)",
   "language": "python",
   "name": "python3"
  },
  "language_info": {
   "codemirror_mode": {
    "name": "ipython",
    "version": 3
   },
   "file_extension": ".py",
   "mimetype": "text/x-python",
   "name": "python",
   "nbconvert_exporter": "python",
   "pygments_lexer": "ipython3",
   "version": "3.8.18"
  }
 },
 "nbformat": 4,
 "nbformat_minor": 5
}
