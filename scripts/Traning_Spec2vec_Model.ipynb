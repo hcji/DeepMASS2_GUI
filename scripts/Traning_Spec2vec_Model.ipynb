{
 "cells": [
  {
   "cell_type": "markdown",
   "id": "cd08bf20-5645-44f6-a738-0e8e01d49e04",
   "metadata": {},
   "source": [
    "## Import packages"
   ]
  },
  {
   "cell_type": "code",
   "execution_count": null,
   "id": "9a47788a-f01f-4bd2-b351-75d834b9b2e5",
   "metadata": {},
   "outputs": [],
   "source": [
    "import random\n",
    "import pickle\n",
    "\n",
    "from tqdm import tqdm\n",
    "from matchms.filtering import add_losses\n",
    "from spec2vec import SpectrumDocument\n",
    "from spec2vec.model_building import train_new_word2vec_model"
   ]
  },
  {
   "cell_type": "markdown",
   "id": "4d6f07cd-ca19-4d7d-9ecf-b1dcb7d87d65",
   "metadata": {},
   "source": [
    "## Positive model"
   ]
  },
  {
   "cell_type": "code",
   "execution_count": null,
   "id": "836a4f0c-f1f9-48b6-be36-6a825b390f19",
   "metadata": {},
   "outputs": [],
   "source": [
    "# load spectra, can replace with your own processed spectra\n",
    "with open('Saves/paper_version/references_spectrums_positive.pickle', 'rb') as file:\n",
    "    spectrums = pickle.load(file)\n",
    "\n",
    "# shuffle\n",
    "random.shuffle(spectrums)"
   ]
  },
  {
   "cell_type": "code",
   "execution_count": null,
   "id": "55190cb5-dede-49d0-8851-ab42d889f4aa",
   "metadata": {},
   "outputs": [],
   "source": [
    "# generate documents\n",
    "documents = [SpectrumDocument(s, n_decimals=2) for s in spectrums]"
   ]
  },
  {
   "cell_type": "code",
   "execution_count": null,
   "id": "c98a33bc-ff73-4a1f-8af3-e2e38823a8b7",
   "metadata": {},
   "outputs": [],
   "source": [
    "# training spec2vec\n",
    "iterations = [30]\n",
    "model_file = \"Models/Ms2Vec_allGNPSpositive.hdf5\"\n",
    "model = train_new_word2vec_model(documents, iterations=iterations, filename=model_file, workers=8, progress_logger=True)"
   ]
  },
  {
   "cell_type": "markdown",
   "id": "b7b5030e-2b49-48dd-be23-56db093305db",
   "metadata": {},
   "source": [
    "## Negative model"
   ]
  },
  {
   "cell_type": "code",
   "execution_count": null,
   "id": "88954c2f-44df-49e1-b11f-e250bb6491a4",
   "metadata": {},
   "outputs": [],
   "source": [
    "# similar to positive model\n",
    "with open('Saves/paper_version/references_spectrums_negative.pickle', 'rb') as file:\n",
    "    spectrums = pickle.load(file)\n",
    "\n",
    "random.shuffle(spectrums)\n",
    "documents = [SpectrumDocument(s, n_decimals=2) for s in spectrums]\n",
    "model_file = \"Models/Ms2Vec_allGNPSnegative.hdf5\"\n",
    "iterations = [30]\n",
    "model = train_new_word2vec_model(documents, iterations=iterations, filename=model_file, workers=8, progress_logger=True)"
   ]
  }
 ],
 "metadata": {
  "kernelspec": {
   "display_name": "Python 3 (ipykernel)",
   "language": "python",
   "name": "python3"
  },
  "language_info": {
   "codemirror_mode": {
    "name": "ipython",
    "version": 3
   },
   "file_extension": ".py",
   "mimetype": "text/x-python",
   "name": "python",
   "nbconvert_exporter": "python",
   "pygments_lexer": "ipython3",
   "version": "3.8.18"
  }
 },
 "nbformat": 4,
 "nbformat_minor": 5
}
